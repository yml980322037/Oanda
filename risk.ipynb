{
 "cells": [
  {
   "cell_type": "markdown",
   "metadata": {
    "collapsed": true
   },
   "source": [
    "# Currently building for USDJPY"
   ]
  },
  {
   "cell_type": "code",
   "execution_count": null,
   "metadata": {
    "collapsed": true
   },
   "outputs": [],
   "source": [
    "class risk:\n",
    "    \n",
    "    def __init__(self, instrument, riskpct):\n",
    "        self.instrument = instrument\n",
    "        self.riskpct = riskpct\n",
    "        \n",
    "    def sl_tp_calculator(dataframe):\n",
    "        return 1\n",
    "            \n",
    "    def position_size_calculator(instrument, balance, riskpct, stoploss):\n",
    "        return ((balance * (riskpct/100) / stoploss) / 0.00008817) #change to retrieve live rate on call\n",
    "        \n",
    "    def margin_requirement(lotsize, marginpct):\n",
    "        return lotsize * (marginpct/100)\n",
    "    \n",
    "    def check_spread():\n",
    "        return spread\n",
    "    \n",
    "    def order_event(order_request):\n",
    "        return 1 # return event object with order data (long/short, orderamount, stoploss, takeprofit)\n",
    "    \n",
    "    def check_risk():"
   ]
  }
 ],
 "metadata": {
  "anaconda-cloud": {},
  "kernelspec": {
   "display_name": "Python [default]",
   "language": "python",
   "name": "python3"
  },
  "language_info": {
   "codemirror_mode": {
    "name": "ipython",
    "version": 3
   },
   "file_extension": ".py",
   "mimetype": "text/x-python",
   "name": "python",
   "nbconvert_exporter": "python",
   "pygments_lexer": "ipython3",
   "version": "3.5.2"
  }
 },
 "nbformat": 4,
 "nbformat_minor": 1
}
