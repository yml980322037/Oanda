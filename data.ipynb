{
 "cells": [
  {
   "cell_type": "code",
   "execution_count": 3,
   "metadata": {
    "collapsed": true
   },
   "outputs": [],
   "source": [
    "from abc import ABCMeta, abstractmethod\n",
    "from pandas import Series, DataFrame\n",
    "import config\n",
    "import mysql.connector\n",
    "from datetime import datetime"
   ]
  },
  {
   "cell_type": "code",
   "execution_count": 4,
   "metadata": {
    "collapsed": false
   },
   "outputs": [],
   "source": [
    "class DataHandler:\n",
    "    \n",
    "    __metaclass__ = ABCMeta\n",
    "    \n",
    "    # Load handler with historical data\n",
    "    @abstractmethod\n",
    "    def get_latest_data(self, N=1):\n",
    "        # Live - Pull and store latest rate (with Dataframe on N number of previous bars)\n",
    "        # Historical - Pull and store N number of bars or historical data\n",
    "        \n",
    "    @abstractmethod\n",
    "    def push_next_bar():\n",
    "        # Live - Push Dataframe object to queue\n",
    "        # Historical - Push Dataframe & Previous N number of bars to queue\n",
    "        "
   ]
  }
 ],
 "metadata": {
  "anaconda-cloud": {},
  "kernelspec": {
   "display_name": "Python [default]",
   "language": "python",
   "name": "python3"
  },
  "language_info": {
   "codemirror_mode": {
    "name": "ipython",
    "version": 3
   },
   "file_extension": ".py",
   "mimetype": "text/x-python",
   "name": "python",
   "nbconvert_exporter": "python",
   "pygments_lexer": "ipython3",
   "version": "3.5.2"
  }
 },
 "nbformat": 4,
 "nbformat_minor": 1
}
