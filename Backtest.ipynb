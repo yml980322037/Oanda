{
 "cells": [
  {
   "cell_type": "code",
   "execution_count": null,
   "metadata": {
    "collapsed": true
   },
   "outputs": [],
   "source": [
    "from pandas import Series, DataFrame\n",
    "import config\n",
    "import mysql.connector\n",
    "from mysql.connector import errorcode"
   ]
  },
  {
   "cell_type": "code",
   "execution_count": null,
   "metadata": {
    "collapsed": true
   },
   "outputs": [],
   "source": [
    "#SQL credentials\n",
    "\n",
    "sql_host = config.sql_host\n",
    "sql_user = config.sql_user\n",
    "sql_password = config.sql_password"
   ]
  },
  {
   "cell_type": "code",
   "execution_count": null,
   "metadata": {
    "collapsed": false
   },
   "outputs": [],
   "source": [
    "# retrieve data from sql select  --add functionality to select by time\n",
    "def select(granularity):\n",
    "    sql = (\"SELECT * FROM {}\".format(granularity))\n",
    "    cnx = mysql.connector.connect(user=sql_user, password=sql_password,\n",
    "                             host=sql_host, database='USDJPY')\n",
    "    cursor = cnx.cursor()\n",
    "    cursor.execute(sql)\n",
    "    results = cursor.fetchall()\n",
    "    cursor.close()\n",
    "    cnx.close()\n",
    "    return results"
   ]
  },
  {
   "cell_type": "code",
   "execution_count": null,
   "metadata": {
    "collapsed": false
   },
   "outputs": [],
   "source": [
    "# Create dataframe from sql query result\n",
    "def dataframe(sqltable):\n",
    "    names = ['time', 'openAsk', 'closeAsk', 'lowAsk', 'highAsk', 'openBid', 'closeBid', 'lowBid', 'highBid', 'volume']\n",
    "    df = DataFrame(sqltable, columns = names)\n",
    "    df.set_index('time', inplace=True)\n",
    "    return df"
   ]
  },
  {
   "cell_type": "code",
   "execution_count": null,
   "metadata": {
    "collapsed": false
   },
   "outputs": [],
   "source": [
    "df = dataframe(select('H3'))"
   ]
  },
  {
   "cell_type": "code",
   "execution_count": null,
   "metadata": {
    "collapsed": false
   },
   "outputs": [],
   "source": [
    "df.head()"
   ]
  },
  {
   "cell_type": "code",
   "execution_count": null,
   "metadata": {
    "collapsed": false
   },
   "outputs": [],
   "source": [
    "#Change function to loop through stored data\n",
    "def check_3hr_trend(self,time):\n",
    "    self.params['count'] = 15\n",
    "    self.params['end'] = datetime.timestamp(datetime.strptime(time,'%Y-%m-%d%H:%M:%S'))\n",
    "    self.params['granularity'] = 'H3'\n",
    "\n",
    "    req = requests.get(self.url, headers = self.headers, params = self.params)\n",
    "    json_data = req.json()\n",
    "    json_data = json_data['candles']\n",
    "    time_reformatter(json_data)\n",
    "\n",
    "    df = DataFrame(json_data)\n",
    "    add_sma3_sma10(df)\n",
    "\n",
    "    if df.ix[11, 'SMA10'] < df.ix[14, 'SMA10']:\n",
    "        return True"
   ]
  },
  {
   "cell_type": "code",
   "execution_count": null,
   "metadata": {
    "collapsed": true
   },
   "outputs": [],
   "source": [
    "# Use for analysis\n",
    "def add_sma3_sma10(df):\n",
    "    df['SMA3'] = df['openBid'].rolling(window=3).mean()\n",
    "    df['SMA10'] = df['openBid'].rolling(window=10).mean()"
   ]
  },
  {
   "cell_type": "code",
   "execution_count": null,
   "metadata": {
    "collapsed": true
   },
   "outputs": [],
   "source": [
    "# Use for analysis\n",
    "def add_state(df):\n",
    "    state = 'Above'\n",
    "    for i in df.index:\n",
    "        if df.ix[i, 'SMA3'] < df.ix[i, 'SMA10']:\n",
    "            state = 'Below'\n",
    "        else:\n",
    "            state = 'Above'\n",
    "\n",
    "        df.ix[i, 'State'] = state"
   ]
  },
  {
   "cell_type": "code",
   "execution_count": null,
   "metadata": {
    "collapsed": true
   },
   "outputs": [],
   "source": [
    "# Use for analysis\n",
    "def rearrange_cols(df):\n",
    "    return df[['time', 'openAsk', 'lowAsk', 'highAsk', 'closeAsk', 'openBid', 'lowBid', 'highBid',\n",
    "             'closeBid', 'SMA3', 'SMA10', 'State',]]"
   ]
  },
  {
   "cell_type": "code",
   "execution_count": null,
   "metadata": {
    "collapsed": true
   },
   "outputs": [],
   "source": [
    "#Create function to check trend from SMA10? - Return Boolean - Work on DataFrame index\n",
    "def check_trend(df, index):\n",
    "    if df.ix[index-20, 'SMA10'] < df.ix[index, 'SMA10']:\n",
    "        return True"
   ]
  },
  {
   "cell_type": "code",
   "execution_count": null,
   "metadata": {
    "collapsed": true
   },
   "outputs": [],
   "source": [
    "# change to work with json data\n",
    "\n",
    "def crosses(df):\n",
    "    crosses = 0\n",
    "\n",
    "    for i in df.index[20:]:\n",
    "        if check_trend(df, i):\n",
    "            if df.ix[i-1,'State'] == 'Below' and df.ix[i, 'State'] == 'Above' : # True when SMA3 crosses over SMA10\n",
    "                diff = ((df.ix[i, 'SMA10'] - df.ix[i-15, 'SMA10']) / df.ix[i, 'SMA10']) * 100\n",
    "                spread = (df.ix[i, 'openAsk'] - df.ix[i, 'openBid']) *100\n",
    "                print('{} at {} {}, Spread: {}'.format(\n",
    "                        round(diff, 6), df.ix[i, 'time'],df.ix[i, 'date'], round(spread ,9)))\n",
    "                crosses += 1\n",
    "\n",
    "    print('Crossed above {} times.'.format(crosses))"
   ]
  },
  {
   "cell_type": "code",
   "execution_count": null,
   "metadata": {
    "collapsed": true
   },
   "outputs": [],
   "source": [
    "# change to work with json data\n",
    "\n",
    "def crosses_with_3hr(dataframe):\n",
    "    cross = 0\n",
    "    for i in dataframe.index[20:]:\n",
    "            if check_trend(dataframe, i):\n",
    "                if USD_JPY.check_3hr_trend(dataframe.ix[i, 'date'] + dataframe.ix[i, 'time']):\n",
    "                    if dataframe.ix[i-1,'State'] == 'Below' and dataframe.ix[i, 'State'] == 'Above' :\n",
    "                        # True when SMA3 crosses over SMA10\n",
    "                        spread = (dataframe.ix[i, 'openAsk'] - dataframe.ix[i, 'openBid']) *100\n",
    "                        print('{} {}, Spread: {}'.format(\n",
    "                                dataframe.ix[i, 'time'],dataframe.ix[i, 'date'], round(spread ,9)))\n",
    "                        cross += 1\n",
    "\n",
    "    print('Crossed above {} times.'.format(cross))"
   ]
  },
  {
   "cell_type": "code",
   "execution_count": null,
   "metadata": {
    "collapsed": true
   },
   "outputs": [],
   "source": []
  }
 ],
 "metadata": {
  "kernelspec": {
   "display_name": "Python [default]",
   "language": "python",
   "name": "python3"
  },
  "language_info": {
   "codemirror_mode": {
    "name": "ipython",
    "version": 3
   },
   "file_extension": ".py",
   "mimetype": "text/x-python",
   "name": "python",
   "nbconvert_exporter": "python",
   "pygments_lexer": "ipython3",
   "version": "3.5.2"
  }
 },
 "nbformat": 4,
 "nbformat_minor": 1
}
