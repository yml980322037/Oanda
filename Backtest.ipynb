{
 "cells": [
  {
   "cell_type": "code",
   "execution_count": null,
   "metadata": {
    "collapsed": false
   },
   "outputs": [],
   "source": [
    "from pandas import Series, DataFrame\n",
    "import config\n",
    "import mysql.connector\n",
    "from datetime import datetime\n",
    "from mysql.connector import errorcode"
   ]
  },
  {
   "cell_type": "code",
   "execution_count": null,
   "metadata": {
    "collapsed": true
   },
   "outputs": [],
   "source": [
    "#SQL credentials. Store in config file.\n",
    "\n",
    "sql_host = config.sql_host\n",
    "sql_user = config.sql_user\n",
    "sql_password = config.sql_password"
   ]
  },
  {
   "cell_type": "code",
   "execution_count": null,
   "metadata": {
    "collapsed": false
   },
   "outputs": [],
   "source": [
    "# Returns tuple for each sql row.\n",
    "def selectlast(granularity, time, rows):\n",
    "    \n",
    "    sql = (\"SELECT * FROM (SELECT * FROM {} WHERE time <= '{}' \"\n",
    "           \"ORDER BY time DESC LIMIT {})a ORDER BY time ASC;\".format(granularity, time, rows))\n",
    "    cnx = mysql.connector.connect(user=sql_user, password=sql_password,\n",
    "                             host=sql_host, database='USDJPY')\n",
    "    cursor = cnx.cursor()\n",
    "    cursor.execute(sql)\n",
    "    results = cursor.fetchall()\n",
    "    cursor.close()\n",
    "    cnx.close()\n",
    "    return results;"
   ]
  },
  {
   "cell_type": "code",
   "execution_count": null,
   "metadata": {
    "collapsed": false
   },
   "outputs": [],
   "source": [
    "# Create dataframe from sql query result\n",
    "def dataframe(sqltable):\n",
    "    names = ['time', 'openAsk', 'closeAsk', 'lowAsk', 'highAsk', 'openBid', 'closeBid', 'lowBid', 'highBid', 'volume']\n",
    "    df = DataFrame(sqltable, columns = names)\n",
    "    df.set_index('time', inplace=True)\n",
    "    return df"
   ]
  },
  {
   "cell_type": "code",
   "execution_count": null,
   "metadata": {
    "collapsed": true
   },
   "outputs": [],
   "source": [
    "# Adds simple moving average to dataframe\n",
    "def add_sma(df, val):\n",
    "    df['SMA{}'.format(val)] = df['openBid'].rolling(window=val).mean()"
   ]
  },
  {
   "cell_type": "code",
   "execution_count": null,
   "metadata": {
    "collapsed": false
   },
   "outputs": [],
   "source": [
    "df = dataframe(selectlast('H3', datetime.utcnow().strftime('%Y-%m-%d %H:%M:%S'), 15))\n",
    "add_sma(df, 3)\n",
    "add_sma(df, 10)\n",
    "df"
   ]
  },
  {
   "cell_type": "code",
   "execution_count": null,
   "metadata": {
    "collapsed": true
   },
   "outputs": [],
   "source": [
    "# Use for analysis\n",
    "def add_state(df):\n",
    "    state = 'Above'\n",
    "    for i in df.index:\n",
    "        if df.ix[i, 'SMA3'] < df.ix[i, 'SMA10']:\n",
    "            state = 'Below'\n",
    "        else:\n",
    "            state = 'Above'\n",
    "\n",
    "        df.ix[i, 'State'] = state"
   ]
  },
  {
   "cell_type": "code",
   "execution_count": null,
   "metadata": {
    "collapsed": true
   },
   "outputs": [],
   "source": [
    "# Use for analysis\n",
    "def rearrange_cols(df):\n",
    "    return df[['time', 'openAsk', 'lowAsk', 'highAsk', 'closeAsk', 'openBid', 'lowBid', 'highBid',\n",
    "             'closeBid', 'SMA3', 'SMA10', 'State',]]"
   ]
  },
  {
   "cell_type": "code",
   "execution_count": null,
   "metadata": {
    "collapsed": true
   },
   "outputs": [],
   "source": [
    "# change to work with json data\n",
    "\n",
    "def crosses(df):\n",
    "    crosses = 0\n",
    "\n",
    "    for i in df.index[20:]:\n",
    "        if check_trend(df, i):\n",
    "            if df.ix[i-1,'State'] == 'Below' and df.ix[i, 'State'] == 'Above' : # True when SMA3 crosses over SMA10\n",
    "                diff = ((df.ix[i, 'SMA10'] - df.ix[i-15, 'SMA10']) / df.ix[i, 'SMA10']) * 100\n",
    "                spread = (df.ix[i, 'openAsk'] - df.ix[i, 'openBid']) *100\n",
    "                print('{} at {} {}, Spread: {}'.format(\n",
    "                        round(diff, 6), df.ix[i, 'time'],df.ix[i, 'date'], round(spread ,9)))\n",
    "                crosses += 1\n",
    "\n",
    "    print('Crossed above {} times.'.format(crosses))"
   ]
  },
  {
   "cell_type": "code",
   "execution_count": null,
   "metadata": {
    "collapsed": true
   },
   "outputs": [],
   "source": []
  },
  {
   "cell_type": "code",
   "execution_count": null,
   "metadata": {
    "collapsed": true
   },
   "outputs": [],
   "source": []
  }
 ],
 "metadata": {
  "anaconda-cloud": {},
  "kernelspec": {
   "display_name": "Python [default]",
   "language": "python",
   "name": "python3"
  },
  "language_info": {
   "codemirror_mode": {
    "name": "ipython",
    "version": 3
   },
   "file_extension": ".py",
   "mimetype": "text/x-python",
   "name": "python",
   "nbconvert_exporter": "python",
   "pygments_lexer": "ipython3",
   "version": "3.5.2"
  }
 },
 "nbformat": 4,
 "nbformat_minor": 1
}
