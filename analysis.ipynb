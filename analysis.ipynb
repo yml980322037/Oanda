{
 "cells": [
  {
   "cell_type": "code",
   "execution_count": 2,
   "metadata": {
    "collapsed": true
   },
   "outputs": [],
   "source": [
    "from pandas import Series, DataFrame\n",
    "import requests\n",
    "import json\n",
    "import config\n",
    "import mysql.connector\n",
    "from datetime import datetime\n",
    "from mysql.connector import errorcode"
   ]
  },
  {
   "cell_type": "code",
   "execution_count": 3,
   "metadata": {
    "collapsed": false
   },
   "outputs": [],
   "source": [
    "#SQL & API credentials. Store in config file.\n",
    "\n",
    "access_token = config.access_token\n",
    "account_id = config.account_id\n",
    "\n",
    "sql_host = config.sql_host\n",
    "sql_user = config.sql_user\n",
    "sql_password = config.sql_password"
   ]
  },
  {
   "cell_type": "code",
   "execution_count": 4,
   "metadata": {
    "collapsed": true
   },
   "outputs": [],
   "source": [
    "# Returns tuple for each sql row.\n",
    "def selectlast(granularity, time, rows):\n",
    "    \n",
    "    sql = (\"SELECT * FROM (SELECT * FROM {} WHERE time <= '{}' \"\n",
    "           \"ORDER BY time DESC LIMIT {})a ORDER BY time ASC;\".format(granularity, time, rows))\n",
    "    cnx = mysql.connector.connect(user=sql_user, password=sql_password,\n",
    "                             host=sql_host, database='USDJPY')\n",
    "    cursor = cnx.cursor()\n",
    "    cursor.execute(sql)\n",
    "    results = cursor.fetchall()\n",
    "    cursor.close()\n",
    "    cnx.close()\n",
    "    return results;"
   ]
  },
  {
   "cell_type": "code",
   "execution_count": 5,
   "metadata": {
    "collapsed": true
   },
   "outputs": [],
   "source": [
    "# Create dataframe from sql query result\n",
    "def dataframe(sqltable):\n",
    "    names = ['time', 'openAsk', 'closeAsk', 'lowAsk', 'highAsk', 'openBid', 'closeBid', 'lowBid', 'highBid', 'volume']\n",
    "    df = DataFrame(sqltable, columns = names)\n",
    "    #df.set_index('time', inplace=True)\n",
    "    return df"
   ]
  },
  {
   "cell_type": "code",
   "execution_count": 6,
   "metadata": {
    "collapsed": true
   },
   "outputs": [],
   "source": [
    "def average_dataframe(sqltable):\n",
    "    names = ['time', 'openAsk', 'closeAsk', 'lowAsk', 'highAsk', 'openBid', 'closeBid', 'lowBid', 'highBid', 'volume']\n",
    "    df = DataFrame(sqltable, columns = names)\n",
    "    \n",
    "    df['open'] = df[['openAsk', 'openBid']].mean(axis=1)\n",
    "    df['high'] = df[['highAsk', 'highBid']].mean(axis=1)\n",
    "    df['low'] = df[['lowAsk', 'lowBid']].mean(axis=1)\n",
    "    df['close'] = df[['closeAsk', 'closeBid']].mean(axis=1)\n",
    "    return df[['time', 'open', 'high', 'low', 'close']]"
   ]
  },
  {
   "cell_type": "code",
   "execution_count": 7,
   "metadata": {
    "collapsed": true
   },
   "outputs": [],
   "source": [
    "# Adds simple moving average to dataframe\n",
    "def add_sma(df, val):\n",
    "    df['SMA{}'.format(val)] = df['openBid'].rolling(window=val).mean()"
   ]
  },
  {
   "cell_type": "code",
   "execution_count": 8,
   "metadata": {
    "collapsed": true
   },
   "outputs": [],
   "source": [
    "def add_2_sma_av(df, val, val2):\n",
    "    df['SMA{}'.format(val)] = df['open'].rolling(window=val).mean()\n",
    "    df['SMA{}'.format(val2)] = df['open'].rolling(window=val2).mean()"
   ]
  },
  {
   "cell_type": "code",
   "execution_count": 9,
   "metadata": {
    "collapsed": true
   },
   "outputs": [],
   "source": [
    "def add_state(df, firstsma, secondsma):\n",
    "    state = 'NA'\n",
    "    for i in df.index:\n",
    "        if df.ix[i, firstsma] < df.ix[i, secondsma]:\n",
    "            state = 'Below'\n",
    "        elif df.ix[i, firstsma] > df.ix[i, secondsma]:\n",
    "            state = 'Above'\n",
    "        else:\n",
    "            state = 'NA'\n",
    "\n",
    "        df.ix[i, 'State'] = state"
   ]
  },
  {
   "cell_type": "code",
   "execution_count": 10,
   "metadata": {
    "collapsed": true
   },
   "outputs": [],
   "source": [
    "def state_above(sqlselect):\n",
    "    df = dataframe(sqlselect)\n",
    "    add_sma(df, 10)\n",
    "    add_sma(df, 12)\n",
    "    add_state(df, 'SMA10', 'SMA12')\n",
    "    if df.iloc[-1]['State'] == 'Above':\n",
    "        return 'Above'\n",
    "    else:\n",
    "        return 'Below'"
   ]
  },
  {
   "cell_type": "code",
   "execution_count": 13,
   "metadata": {
    "collapsed": true
   },
   "outputs": [],
   "source": [
    "def get_current_rate(instrument):\n",
    "        url = 'https://api-fxpractice.oanda.com/v1/prices'\n",
    "        headers = {'Authorization' : 'Bearer ' + access_token,'X-Accept-Datetime-Format': 'UNIX'}\n",
    "        params = {'accountId' : account_id,'instruments': instrument}\n",
    "        req = requests.get(url, headers = headers, params = params)\n",
    "        json_data = req.json()\n",
    "        item = json_data['prices'][0]\n",
    "        item['time'] = datetime.strftime(datetime.fromtimestamp(float(item['time'][:10])),'%Y-%m-%d %H:%M:%S')\n",
    "        return item"
   ]
  },
  {
   "cell_type": "code",
   "execution_count": 43,
   "metadata": {
    "collapsed": false
   },
   "outputs": [
    {
     "data": {
      "text/plain": [
       "{'ask': 108.829,\n",
       " 'bid': 108.815,\n",
       " 'instrument': 'USD_JPY',\n",
       " 'time': '2017-04-14 12:10:07'}"
      ]
     },
     "execution_count": 43,
     "metadata": {},
     "output_type": "execute_result"
    }
   ],
   "source": [
    "get_current_rate('USD_JPY')"
   ]
  },
  {
   "cell_type": "code",
   "execution_count": 50,
   "metadata": {
    "collapsed": false
   },
   "outputs": [
    {
     "data": {
      "text/plain": [
       "[(datetime.datetime(2017, 4, 14, 13, 30),\n",
       "  Decimal('108.976'),\n",
       "  Decimal('108.754'),\n",
       "  Decimal('108.753'),\n",
       "  Decimal('108.978'),\n",
       "  Decimal('108.878'),\n",
       "  Decimal('108.734'),\n",
       "  Decimal('108.710'),\n",
       "  Decimal('108.881'),\n",
       "  973),\n",
       " (datetime.datetime(2017, 4, 14, 13, 31),\n",
       "  Decimal('108.754'),\n",
       "  Decimal('108.807'),\n",
       "  Decimal('108.754'),\n",
       "  Decimal('108.953'),\n",
       "  Decimal('108.732'),\n",
       "  Decimal('108.733'),\n",
       "  Decimal('108.723'),\n",
       "  Decimal('108.878'),\n",
       "  581),\n",
       " (datetime.datetime(2017, 4, 14, 13, 32),\n",
       "  Decimal('108.806'),\n",
       "  Decimal('108.793'),\n",
       "  Decimal('108.758'),\n",
       "  Decimal('108.841'),\n",
       "  Decimal('108.733'),\n",
       "  Decimal('108.752'),\n",
       "  Decimal('108.730'),\n",
       "  Decimal('108.798'),\n",
       "  366),\n",
       " (datetime.datetime(2017, 4, 14, 13, 33),\n",
       "  Decimal('108.794'),\n",
       "  Decimal('108.785'),\n",
       "  Decimal('108.771'),\n",
       "  Decimal('108.817'),\n",
       "  Decimal('108.754'),\n",
       "  Decimal('108.765'),\n",
       "  Decimal('108.731'),\n",
       "  Decimal('108.779'),\n",
       "  195),\n",
       " (datetime.datetime(2017, 4, 14, 13, 34),\n",
       "  Decimal('108.786'),\n",
       "  Decimal('108.755'),\n",
       "  Decimal('108.755'),\n",
       "  Decimal('108.798'),\n",
       "  Decimal('108.764'),\n",
       "  Decimal('108.733'),\n",
       "  Decimal('108.724'),\n",
       "  Decimal('108.766'),\n",
       "  224),\n",
       " (datetime.datetime(2017, 4, 14, 13, 35),\n",
       "  Decimal('108.755'),\n",
       "  Decimal('108.788'),\n",
       "  Decimal('108.753'),\n",
       "  Decimal('108.824'),\n",
       "  Decimal('108.732'),\n",
       "  Decimal('108.761'),\n",
       "  Decimal('108.728'),\n",
       "  Decimal('108.790'),\n",
       "  285),\n",
       " (datetime.datetime(2017, 4, 14, 13, 36),\n",
       "  Decimal('108.788'),\n",
       "  Decimal('108.758'),\n",
       "  Decimal('108.751'),\n",
       "  Decimal('108.818'),\n",
       "  Decimal('108.762'),\n",
       "  Decimal('108.735'),\n",
       "  Decimal('108.721'),\n",
       "  Decimal('108.781'),\n",
       "  384),\n",
       " (datetime.datetime(2017, 4, 14, 13, 37),\n",
       "  Decimal('108.758'),\n",
       "  Decimal('108.786'),\n",
       "  Decimal('108.744'),\n",
       "  Decimal('108.805'),\n",
       "  Decimal('108.737'),\n",
       "  Decimal('108.756'),\n",
       "  Decimal('108.721'),\n",
       "  Decimal('108.773'),\n",
       "  389),\n",
       " (datetime.datetime(2017, 4, 14, 13, 38),\n",
       "  Decimal('108.784'),\n",
       "  Decimal('108.754'),\n",
       "  Decimal('108.754'),\n",
       "  Decimal('108.796'),\n",
       "  Decimal('108.757'),\n",
       "  Decimal('108.729'),\n",
       "  Decimal('108.725'),\n",
       "  Decimal('108.763'),\n",
       "  215),\n",
       " (datetime.datetime(2017, 4, 14, 13, 39),\n",
       "  Decimal('108.763'),\n",
       "  Decimal('108.769'),\n",
       "  Decimal('108.761'),\n",
       "  Decimal('108.780'),\n",
       "  Decimal('108.742'),\n",
       "  Decimal('108.747'),\n",
       "  Decimal('108.727'),\n",
       "  Decimal('108.750'),\n",
       "  109),\n",
       " (datetime.datetime(2017, 4, 14, 13, 40),\n",
       "  Decimal('108.771'),\n",
       "  Decimal('108.772'),\n",
       "  Decimal('108.757'),\n",
       "  Decimal('108.791'),\n",
       "  Decimal('108.747'),\n",
       "  Decimal('108.745'),\n",
       "  Decimal('108.733'),\n",
       "  Decimal('108.753'),\n",
       "  103),\n",
       " (datetime.datetime(2017, 4, 14, 13, 41),\n",
       "  Decimal('108.773'),\n",
       "  Decimal('108.773'),\n",
       "  Decimal('108.765'),\n",
       "  Decimal('108.802'),\n",
       "  Decimal('108.744'),\n",
       "  Decimal('108.746'),\n",
       "  Decimal('108.738'),\n",
       "  Decimal('108.775'),\n",
       "  71),\n",
       " (datetime.datetime(2017, 4, 14, 13, 42),\n",
       "  Decimal('108.774'),\n",
       "  Decimal('108.797'),\n",
       "  Decimal('108.768'),\n",
       "  Decimal('108.836'),\n",
       "  Decimal('108.746'),\n",
       "  Decimal('108.759'),\n",
       "  Decimal('108.741'),\n",
       "  Decimal('108.797'),\n",
       "  207),\n",
       " (datetime.datetime(2017, 4, 14, 13, 43),\n",
       "  Decimal('108.795'),\n",
       "  Decimal('108.796'),\n",
       "  Decimal('108.794'),\n",
       "  Decimal('108.801'),\n",
       "  Decimal('108.759'),\n",
       "  Decimal('108.764'),\n",
       "  Decimal('108.758'),\n",
       "  Decimal('108.768'),\n",
       "  56),\n",
       " (datetime.datetime(2017, 4, 14, 13, 44),\n",
       "  Decimal('108.794'),\n",
       "  Decimal('108.778'),\n",
       "  Decimal('108.777'),\n",
       "  Decimal('108.811'),\n",
       "  Decimal('108.764'),\n",
       "  Decimal('108.749'),\n",
       "  Decimal('108.747'),\n",
       "  Decimal('108.778'),\n",
       "  126),\n",
       " (datetime.datetime(2017, 4, 14, 13, 45),\n",
       "  Decimal('108.777'),\n",
       "  Decimal('108.791'),\n",
       "  Decimal('108.777'),\n",
       "  Decimal('108.812'),\n",
       "  Decimal('108.749'),\n",
       "  Decimal('108.766'),\n",
       "  Decimal('108.749'),\n",
       "  Decimal('108.782'),\n",
       "  139),\n",
       " (datetime.datetime(2017, 4, 14, 13, 46),\n",
       "  Decimal('108.793'),\n",
       "  Decimal('108.789'),\n",
       "  Decimal('108.783'),\n",
       "  Decimal('108.795'),\n",
       "  Decimal('108.765'),\n",
       "  Decimal('108.761'),\n",
       "  Decimal('108.759'),\n",
       "  Decimal('108.766'),\n",
       "  111),\n",
       " (datetime.datetime(2017, 4, 14, 13, 47),\n",
       "  Decimal('108.789'),\n",
       "  Decimal('108.758'),\n",
       "  Decimal('108.757'),\n",
       "  Decimal('108.793'),\n",
       "  Decimal('108.762'),\n",
       "  Decimal('108.737'),\n",
       "  Decimal('108.733'),\n",
       "  Decimal('108.764'),\n",
       "  140),\n",
       " (datetime.datetime(2017, 4, 14, 13, 48),\n",
       "  Decimal('108.759'),\n",
       "  Decimal('108.683'),\n",
       "  Decimal('108.663'),\n",
       "  Decimal('108.775'),\n",
       "  Decimal('108.731'),\n",
       "  Decimal('108.653'),\n",
       "  Decimal('108.623'),\n",
       "  Decimal('108.741'),\n",
       "  697),\n",
       " (datetime.datetime(2017, 4, 14, 13, 49),\n",
       "  Decimal('108.683'),\n",
       "  Decimal('108.699'),\n",
       "  Decimal('108.667'),\n",
       "  Decimal('108.724'),\n",
       "  Decimal('108.652'),\n",
       "  Decimal('108.667'),\n",
       "  Decimal('108.639'),\n",
       "  Decimal('108.691'),\n",
       "  283)]"
      ]
     },
     "execution_count": 50,
     "metadata": {},
     "output_type": "execute_result"
    }
   ],
   "source": [
    "selectlast('M1', '2017-04-14 14:50:07', 20)"
   ]
  },
  {
   "cell_type": "code",
   "execution_count": null,
   "metadata": {
    "collapsed": true
   },
   "outputs": [],
   "source": []
  }
 ],
 "metadata": {
  "anaconda-cloud": {},
  "kernelspec": {
   "display_name": "Python [default]",
   "language": "python",
   "name": "python3"
  },
  "language_info": {
   "codemirror_mode": {
    "name": "ipython",
    "version": 3
   },
   "file_extension": ".py",
   "mimetype": "text/x-python",
   "name": "python",
   "nbconvert_exporter": "python",
   "pygments_lexer": "ipython3",
   "version": "3.5.2"
  }
 },
 "nbformat": 4,
 "nbformat_minor": 1
}
