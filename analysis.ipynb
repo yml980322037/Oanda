{
 "cells": [
  {
   "cell_type": "code",
   "execution_count": null,
   "metadata": {
    "collapsed": true
   },
   "outputs": [],
   "source": [
    "from pandas import Series, DataFrame\n",
    "import requests\n",
    "import json\n",
    "import config\n",
    "import mysql.connector\n",
    "from datetime import datetime\n",
    "from mysql.connector import errorcode"
   ]
  },
  {
   "cell_type": "code",
   "execution_count": null,
   "metadata": {
    "collapsed": false
   },
   "outputs": [],
   "source": [
    "#SQL & API credentials. Store in config file.\n",
    "\n",
    "access_token = config.access_token\n",
    "account_id = config.account_id\n",
    "\n",
    "sql_host = config.sql_host\n",
    "sql_user = config.sql_user\n",
    "sql_password = config.sql_password"
   ]
  },
  {
   "cell_type": "code",
   "execution_count": null,
   "metadata": {
    "collapsed": true
   },
   "outputs": [],
   "source": [
    "# Returns tuple for each sql row.\n",
    "def selectlast(granularity, time, rows):\n",
    "    \n",
    "    sql = (\"SELECT * FROM (SELECT * FROM {} WHERE time <= '{}' \"\n",
    "           \"ORDER BY time DESC LIMIT {})a ORDER BY time ASC;\".format(granularity, time, rows))\n",
    "    cnx = mysql.connector.connect(user=sql_user, password=sql_password,\n",
    "                             host=sql_host, database='USDJPY')\n",
    "    cursor = cnx.cursor()\n",
    "    cursor.execute(sql)\n",
    "    results = cursor.fetchall()\n",
    "    cursor.close()\n",
    "    cnx.close()\n",
    "    return results;"
   ]
  },
  {
   "cell_type": "code",
   "execution_count": null,
   "metadata": {
    "collapsed": true
   },
   "outputs": [],
   "source": [
    "# Create dataframe from sql query result\n",
    "def dataframe(sqltable):\n",
    "    names = ['time', 'openAsk', 'closeAsk', 'lowAsk', 'highAsk', 'openBid', 'closeBid', 'lowBid', 'highBid', 'volume']\n",
    "    df = DataFrame(sqltable, columns = names)\n",
    "    #df.set_index('time', inplace=True)\n",
    "    return df"
   ]
  },
  {
   "cell_type": "code",
   "execution_count": null,
   "metadata": {
    "collapsed": true
   },
   "outputs": [],
   "source": [
    "def average_dataframe(sqltable):\n",
    "    names = ['time', 'openAsk', 'closeAsk', 'lowAsk', 'highAsk', 'openBid', 'closeBid', 'lowBid', 'highBid', 'volume']\n",
    "    df = DataFrame(sqltable, columns = names)\n",
    "    \n",
    "    df['open'] = df[['openAsk', 'openBid']].mean(axis=1)\n",
    "    df['high'] = df[['highAsk', 'highBid']].mean(axis=1)\n",
    "    df['low'] = df[['lowAsk', 'lowBid']].mean(axis=1)\n",
    "    df['close'] = df[['closeAsk', 'closeBid']].mean(axis=1)\n",
    "    return df[['time', 'open', 'high', 'low', 'close']]"
   ]
  },
  {
   "cell_type": "code",
   "execution_count": null,
   "metadata": {
    "collapsed": true
   },
   "outputs": [],
   "source": [
    "# Adds simple moving average to dataframe\n",
    "def add_sma(df, val):\n",
    "    df['SMA{}'.format(val)] = df['openBid'].rolling(window=val).mean()"
   ]
  },
  {
   "cell_type": "code",
   "execution_count": null,
   "metadata": {
    "collapsed": true
   },
   "outputs": [],
   "source": [
    "def add_2_sma_av(df, val, val2):\n",
    "    df['SMA{}'.format(val)] = df['open'].rolling(window=val).mean()\n",
    "    df['SMA{}'.format(val2)] = df['open'].rolling(window=val2).mean()"
   ]
  },
  {
   "cell_type": "code",
   "execution_count": null,
   "metadata": {
    "collapsed": true
   },
   "outputs": [],
   "source": [
    "def add_state(df, firstsma, secondsma):\n",
    "    state = 'NA'\n",
    "    for i in df.index:\n",
    "        if df.ix[i, firstsma] < df.ix[i, secondsma]:\n",
    "            state = 'Below'\n",
    "        elif df.ix[i, firstsma] > df.ix[i, secondsma]:\n",
    "            state = 'Above'\n",
    "        else:\n",
    "            state = 'NA'\n",
    "\n",
    "        df.ix[i, 'State'] = state"
   ]
  },
  {
   "cell_type": "code",
   "execution_count": null,
   "metadata": {
    "collapsed": true
   },
   "outputs": [],
   "source": [
    "def state_above(sqlselect):\n",
    "    df = dataframe(sqlselect)\n",
    "    add_sma(df, 10)\n",
    "    add_sma(df, 12)\n",
    "    add_state(df, 'SMA10', 'SMA12')\n",
    "    if df.iloc[-1]['State'] == 'Above':\n",
    "        return 'Above'\n",
    "    else:\n",
    "        return 'Below'"
   ]
  },
  {
   "cell_type": "code",
   "execution_count": null,
   "metadata": {
    "collapsed": true
   },
   "outputs": [],
   "source": [
    "def get_current_rate(instrument):\n",
    "        url = 'https://api-fxpractice.oanda.com/v1/prices'\n",
    "        headers = {'Authorization' : 'Bearer ' + access_token,'X-Accept-Datetime-Format': 'UNIX'}\n",
    "        params = {'accountId' : account_id,'instruments': instrument}\n",
    "        req = requests.get(url, headers = headers, params = params)\n",
    "        json_data = req.json()\n",
    "        item = json_data['prices'][0]\n",
    "        item['time'] = datetime.strftime(datetime.fromtimestamp(float(item['time'][:10])),'%Y-%m-%d %H:%M:%S')\n",
    "        return item"
   ]
  },
  {
   "cell_type": "code",
   "execution_count": null,
   "metadata": {
    "collapsed": false
   },
   "outputs": [],
   "source": [
    "get_current_rate('USD_JPY')"
   ]
  },
  {
   "cell_type": "code",
   "execution_count": null,
   "metadata": {
    "collapsed": true
   },
   "outputs": [],
   "source": []
  }
 ],
 "metadata": {
  "anaconda-cloud": {},
  "kernelspec": {
   "display_name": "Python [default]",
   "language": "python",
   "name": "python3"
  },
  "language_info": {
   "codemirror_mode": {
    "name": "ipython",
    "version": 3
   },
   "file_extension": ".py",
   "mimetype": "text/x-python",
   "name": "python",
   "nbconvert_exporter": "python",
   "pygments_lexer": "ipython3",
   "version": "3.5.2"
  }
 },
 "nbformat": 4,
 "nbformat_minor": 1
}
