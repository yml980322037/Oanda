{
 "cells": [
  {
   "cell_type": "markdown",
   "metadata": {},
   "source": [
    "This module is used to gather data pulled using the Oanda REST API into an SQL database"
   ]
  },
  {
   "cell_type": "code",
   "execution_count": 1,
   "metadata": {
    "collapsed": false
   },
   "outputs": [],
   "source": [
    "import requests\n",
    "import json\n",
    "from datetime import datetime, timedelta\n",
    "import config\n",
    "import mysql.connector\n",
    "from mysql.connector import errorcode"
   ]
  },
  {
   "cell_type": "code",
   "execution_count": 2,
   "metadata": {
    "collapsed": false
   },
   "outputs": [],
   "source": [
    "# Store oanda api & SQL Server authentication in config file\n",
    "\n",
    "url = config.url\n",
    "access_token = config.access_token\n",
    "account_id = config.account_id\n",
    "\n",
    "sql_host = config.sql_host\n",
    "sql_user = config.sql_user_sourcefeed\n",
    "sql_password = config.sql_password_sourcefeed"
   ]
  },
  {
   "cell_type": "code",
   "execution_count": 150,
   "metadata": {
    "collapsed": false
   },
   "outputs": [],
   "source": [
    "class Source:\n",
    "    \n",
    "    def __init__(self,ticker):\n",
    "        self.ticker = ticker\n",
    "        self.url = url\n",
    "        self.headers = {'Authorization' : 'Bearer ' + access_token,'X-Accept-Datetime-Format': 'UNIX'}\n",
    "        self.params = {'accountId' : account_id,'instrument': self.ticker}\n",
    "    \n",
    "    def pull_json_data(self, starttime, endtime, granularity):\n",
    "        self.params['start'] = datetime.timestamp(datetime.strptime(starttime,'%Y-%m-%d %H:%M:%S'))\n",
    "        self.params['end'] = datetime.timestamp(datetime.strptime(endtime,'%Y-%m-%d %H:%M:%S'))\n",
    "        self.params['granularity'] = granularity\n",
    "        req = requests.get(self.url, headers = self.headers, params = self.params)\n",
    "        self.params.pop('start', None)\n",
    "        self.params.pop('end', None)\n",
    "        json_data = req.json()\n",
    "        return json_data['candles']        \n",
    "    \n",
    "    # Retrieve & store returned data into correct table using parameter - Use add to table\n",
    "    def pull_to_table(self, starttime, endtime, granularity):\n",
    "        json_data = self.pull_json_data(starttime, endtime, granularity)\n",
    "        time_reformatter(json_data)\n",
    "        #self.create_table(granularity)\n",
    "        self.add_to_table(json_data, granularity)\n",
    "    \n",
    "    \n",
    "    def add_to_table(self,json_dict,granularity):\n",
    "        add_row = (\"INSERT IGNORE INTO {}\"\n",
    "                   \"(time, openask, closeask, lowask, highask, openbid, closebid, lowbid, highbid, volume)\"\n",
    "                   \"VALUES (%(time)s, %(openAsk)s, %(closeAsk)s, %(lowAsk)s, %(highAsk)s, \"\n",
    "                   \"%(openBid)s, %(closeBid)s, %(lowBid)s, %(highBid)s, %(volume)s)\"\n",
    "                   \"ON DUPLICATE KEY UPDATE \"\n",
    "                   \"closeask = %(closeAsk)s,\"\n",
    "                   \"lowask = %(lowAsk)s,\"\n",
    "                   \"highask = %(highAsk)s,\"\n",
    "                   \"closebid = %(closeBid)s,\"\n",
    "                   \"lowbid = %(lowBid)s,\"\n",
    "                   \"highbid = %(highBid)s,\"\n",
    "                   \"volume = %(volume)s\".format(granularity))\n",
    "        \n",
    "        cnx = mysql.connector.connect(user=sql_user, password=sql_password,\n",
    "                                 host=sql_host, database='USDJPY')\n",
    "        cursor = cnx.cursor()\n",
    "        for i in json_dict:\n",
    "            cursor.execute(add_row, i)\n",
    "        cnx.commit()\n",
    "        cursor.close()\n",
    "        cnx.close()\n",
    "        \n",
    "    def create_table(self, granularity):\n",
    "        create = (\"CREATE TABLE IF NOT EXISTS {}\"\n",
    "                  \"(time datetime unique, openask decimal(6,3), closeask decimal(6,3), lowask decimal(6,3), \"\n",
    "                  \"highask decimal(6,3), openbid decimal(6,3), closebid decimal(6,3), lowbid decimal(6,3), \"\n",
    "                  \"highbid decimal(6,3), volume int(10))\".format(granularity))\n",
    "        cnx = mysql.connector.connect(user=sql_user, password=sql_password,\n",
    "                                 host=sql_host, database='USDJPY')\n",
    "        cursor = cnx.cursor()\n",
    "        cursor.execute(create)\n",
    "        cursor.close()\n",
    "        cnx.close()\n",
    "        \n",
    "    def halted(self):\n",
    "        url = 'https://api-fxpractice.oanda.com/v1/prices'\n",
    "        headers = {'Authorization' : 'Bearer ' + access_token,'X-Accept-Datetime-Format': 'UNIX'}\n",
    "        params = {'accountId' : account_id,'instruments': self.ticker}\n",
    "        req = requests.get(url, headers = headers, params = params)\n",
    "        json_data = req.json()\n",
    "        item = json_data['prices'][0]\n",
    "        if 'status' in item:\n",
    "            return True\n",
    "        else:\n",
    "            return False\n"
   ]
  },
  {
   "cell_type": "code",
   "execution_count": 151,
   "metadata": {
    "collapsed": true
   },
   "outputs": [],
   "source": [
    "# Takes dictionary as parameter - Changes UNIX Timestamp to Datetime format for SQL Table\n",
    "def time_reformatter(json_data):\n",
    "    for item in json_data:\n",
    "        item['time'] = datetime.strftime(datetime.fromtimestamp(float(item['time'][:10])),'%Y-%m-%d %H:%M:%S')"
   ]
  },
  {
   "cell_type": "code",
   "execution_count": 152,
   "metadata": {
    "collapsed": false
   },
   "outputs": [],
   "source": [
    "USD_JPY = Source('USD_JPY')"
   ]
  },
  {
   "cell_type": "code",
   "execution_count": 163,
   "metadata": {
    "collapsed": false
   },
   "outputs": [],
   "source": [
    "# Change for Daylight Saving Time\n",
    "timenow = datetime.utcnow() + timedelta(hours = 1)\n",
    "\n",
    "if USD_JPY.halted() == False:\n",
    "    try:\n",
    "        a = USD_JPY.pull_to_table(datetime.strftime(timenow - timedelta(minutes = 2),'%Y-%m-%d %H:%M:%S'),\n",
    "                                  datetime.strftime(timenow + timedelta(minutes = 2),'%Y-%m-%d %H:%M:%S'), 'M1')\n",
    "    except ValueError:\n",
    "        print('JSON Value Error')"
   ]
  },
  {
   "cell_type": "code",
   "execution_count": null,
   "metadata": {
    "collapsed": true
   },
   "outputs": [],
   "source": []
  }
 ],
 "metadata": {
  "anaconda-cloud": {},
  "kernelspec": {
   "display_name": "Python [default]",
   "language": "python",
   "name": "python3"
  },
  "language_info": {
   "codemirror_mode": {
    "name": "ipython",
    "version": 3
   },
   "file_extension": ".py",
   "mimetype": "text/x-python",
   "name": "python",
   "nbconvert_exporter": "python",
   "pygments_lexer": "ipython3",
   "version": "3.5.2"
  }
 },
 "nbformat": 4,
 "nbformat_minor": 1
}
