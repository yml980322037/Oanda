{
 "cells": [
  {
   "cell_type": "code",
   "execution_count": null,
   "metadata": {
    "collapsed": true
   },
   "outputs": [],
   "source": [
    "class portfolio:\n",
    "    \n",
    "    def __init__(self):\n",
    "        #initialist balance, margin requirement, pull existing open trades.\n",
    "        self.open_trades = None #Pull from API\n",
    "    \n",
    "    def view_open_trades():\n",
    "        pass\n",
    "    \n",
    "    def check_risk():\n",
    "        #call risk module\n",
    "        pass\n",
    "    \n",
    "    def open_trade(instrument, lotsize, stoploss, takeprofit):\n",
    "        pass"
   ]
  }
 ],
 "metadata": {
  "anaconda-cloud": {},
  "kernelspec": {
   "display_name": "Python [default]",
   "language": "python",
   "name": "python3"
  },
  "language_info": {
   "codemirror_mode": {
    "name": "ipython",
    "version": 3
   },
   "file_extension": ".py",
   "mimetype": "text/x-python",
   "name": "python",
   "nbconvert_exporter": "python",
   "pygments_lexer": "ipython3",
   "version": "3.5.2"
  }
 },
 "nbformat": 4,
 "nbformat_minor": 1
}
