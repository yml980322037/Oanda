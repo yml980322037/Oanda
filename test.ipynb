{
 "cells": [
  {
   "cell_type": "code",
   "execution_count": 1,
   "metadata": {
    "collapsed": false
   },
   "outputs": [],
   "source": [
    "import config\n",
    "import event\n",
    "import handler\n",
    "import strategy\n",
    "import portfolio\n",
    "import risk\n",
    "import analysis as an\n",
    "from datetime import datetime\n",
    "\n",
    "#SQL & API credentials. Store in config file.\n",
    "\n",
    "access_token = config.access_token\n",
    "account_id = config.account_id\n",
    "\n",
    "sql_host = config.sql_host\n",
    "sql_user = config.sql_user_analysis\n",
    "sql_password = config.sql_password_analysis"
   ]
  },
  {
   "cell_type": "code",
   "execution_count": null,
   "metadata": {
    "collapsed": false
   },
   "outputs": [],
   "source": [
    "for i in range(0, df.shape[0]):\n",
    "    if df.iloc[i]['State'] != df.iloc[i-1]['State']:\n",
    "        three_hour_trend = an.state(an.selectlast('H3', df['time'].iloc[i], 10))\n",
    "        if df.iloc[i]['State'] == three_hour_trend:\n",
    "            print(df['time'].iloc[i], df.iloc[i]['State'], an.state(an.selectlast('H3', df['time'].iloc[i], 10))) "
   ]
  },
  {
   "cell_type": "code",
   "execution_count": 2,
   "metadata": {
    "collapsed": false
   },
   "outputs": [],
   "source": [
    "dh = handler.DataHandler()\n",
    "queue = event.event_queue()\n",
    "strategy = strategy.Strategy()"
   ]
  },
  {
   "cell_type": "code",
   "execution_count": 87,
   "metadata": {
    "collapsed": false
   },
   "outputs": [],
   "source": [
    "queue.add_to_queue(dh.get_latest_rate())"
   ]
  },
  {
   "cell_type": "code",
   "execution_count": 88,
   "metadata": {
    "collapsed": false
   },
   "outputs": [
    {
     "name": "stdout",
     "output_type": "stream",
     "text": [
      "Tick Event Popped\n",
      "Signal Event Popped\n"
     ]
    }
   ],
   "source": [
    "while len(queue.queue) != 0:\n",
    "    next_event = queue.next_event()\n",
    "    \n",
    "    if next_event.type == 'tick':\n",
    "        #Call strategy\n",
    "        queue.add_to_queue(strategy.generate_signal(next_event))\n",
    "        print('Tick Event Popped')\n",
    "\n",
    "    elif next_event.type == 'signal':\n",
    "        #Call risk\n",
    "        print('Signal Event Popped')\n",
    "\n",
    "    elif next_event.type == 'trade':\n",
    "        #Call portfolio\n",
    "        print('Trade Event Popped')\n",
    "\n",
    "    elif next_event.type == 'order':\n",
    "        #Call execution\n",
    "        print('Order Event Popped')\n",
    "\n",
    "    elif next_event.type == 'fill':\n",
    "        #Wait in execution function until response received\n",
    "        #Call portfolio\n",
    "        print('Fill Event Popped')\n",
    "\n",
    "    else:\n",
    "        print('Queue Error')\n"
   ]
  },
  {
   "cell_type": "code",
   "execution_count": 89,
   "metadata": {
    "collapsed": false
   },
   "outputs": [
    {
     "data": {
      "text/plain": [
       "0"
      ]
     },
     "execution_count": 89,
     "metadata": {},
     "output_type": "execute_result"
    }
   ],
   "source": [
    "len(queue.queue)"
   ]
  },
  {
   "cell_type": "code",
   "execution_count": 93,
   "metadata": {
    "collapsed": false
   },
   "outputs": [
    {
     "data": {
      "text/plain": [
       "'signal'"
      ]
     },
     "execution_count": 93,
     "metadata": {},
     "output_type": "execute_result"
    }
   ],
   "source": [
    "next_event.type"
   ]
  },
  {
   "cell_type": "code",
   "execution_count": null,
   "metadata": {
    "collapsed": true
   },
   "outputs": [],
   "source": []
  },
  {
   "cell_type": "code",
   "execution_count": null,
   "metadata": {
    "collapsed": true
   },
   "outputs": [],
   "source": []
  }
 ],
 "metadata": {
  "anaconda-cloud": {},
  "kernelspec": {
   "display_name": "Python [default]",
   "language": "python",
   "name": "python3"
  },
  "language_info": {
   "codemirror_mode": {
    "name": "ipython",
    "version": 3
   },
   "file_extension": ".py",
   "mimetype": "text/x-python",
   "name": "python",
   "nbconvert_exporter": "python",
   "pygments_lexer": "ipython3",
   "version": "3.5.2"
  }
 },
 "nbformat": 4,
 "nbformat_minor": 1
}
