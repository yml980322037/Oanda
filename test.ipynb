{
 "cells": [
  {
   "cell_type": "code",
   "execution_count": 1,
   "metadata": {
    "collapsed": false
   },
   "outputs": [],
   "source": [
    "import config\n",
    "import event\n",
    "import handler\n",
    "import strategy\n",
    "import portfolio\n",
    "import risk\n",
    "import analysis as an\n",
    "from datetime import datetime\n",
    "\n",
    "\n",
    "#SQL & API credentials. Store in config file.\n",
    "\n",
    "access_token = config.access_token\n",
    "account_id = config.account_id\n",
    "\n",
    "sql_host = config.sql_host\n",
    "sql_user = config.sql_user_analysis\n",
    "sql_password = config.sql_password_analysis"
   ]
  },
  {
   "cell_type": "code",
   "execution_count": 2,
   "metadata": {
    "collapsed": false
   },
   "outputs": [],
   "source": [
    "dh = handler.DataHandler()\n",
    "queue = event.EventQueue()\n",
    "strategy = strategy.Strategy()\n",
    "risk = risk.Risk('USDJPY', 2, 2)\n",
    "portfolio = portfolio.Portfolio()"
   ]
  },
  {
   "cell_type": "code",
   "execution_count": 3,
   "metadata": {
    "collapsed": false
   },
   "outputs": [],
   "source": [
    "queue.add_to_queue(dh.get_single_rate())"
   ]
  },
  {
   "cell_type": "code",
   "execution_count": 4,
   "metadata": {
    "collapsed": false
   },
   "outputs": [
    {
     "name": "stdout",
     "output_type": "stream",
     "text": [
      "Tick Event Popped\n",
      "Signal Event Popped\n",
      "Trade Event Popped\n"
     ]
    }
   ],
   "source": [
    "while len(queue.queue) != 0:\n",
    "    next_event = queue.next_event()\n",
    "    \n",
    "    if next_event.type == 'tick':\n",
    "        #Call strategy\n",
    "        queue.add_to_queue(strategy.generate_signal(next_event))\n",
    "        print('Tick Event Popped')\n",
    "\n",
    "    elif next_event.type == 'signal':\n",
    "        # If signal requires, call risk\n",
    "        if next_event.signal != 'none':\n",
    "            queue.add_to_queue(risk.calculate_risk(next_event))\n",
    "            print('Signal Event Popped')\n",
    "\n",
    "    elif next_event.type == 'trade':\n",
    "        #Call portfolio\n",
    "        print('Trade Event Popped')\n",
    "\n",
    "    elif next_event.type == 'order':\n",
    "        #Call execution\n",
    "        print('Order Event Popped')\n",
    "\n",
    "    elif next_event.type == 'fill':\n",
    "        #Wait in execution function until response received\n",
    "        #Call portfolio\n",
    "        print('Fill Event Popped')\n",
    "\n",
    "    else:\n",
    "        print('Queue Error')\n"
   ]
  },
  {
   "cell_type": "code",
   "execution_count": 5,
   "metadata": {
    "collapsed": false
   },
   "outputs": [
    {
     "data": {
      "text/plain": [
       "0"
      ]
     },
     "execution_count": 5,
     "metadata": {},
     "output_type": "execute_result"
    }
   ],
   "source": [
    "len(queue.queue)"
   ]
  },
  {
   "cell_type": "code",
   "execution_count": 6,
   "metadata": {
    "collapsed": false
   },
   "outputs": [
    {
     "name": "stdout",
     "output_type": "stream",
     "text": [
      "2017-05-31 16:38:57.527913\n",
      "sell\n",
      "111.286\n",
      "111.086\n"
     ]
    },
    {
     "data": {
      "text/plain": [
       "{'ask': 111.196, 'bid': 111.21600000000001}"
      ]
     },
     "execution_count": 6,
     "metadata": {},
     "output_type": "execute_result"
    }
   ],
   "source": [
    "print(next_event.time)\n",
    "print(next_event.signal)\n",
    "print(next_event.sl)\n",
    "print(next_event.tp)\n",
    "next_event.price"
   ]
  },
  {
   "cell_type": "code",
   "execution_count": 7,
   "metadata": {
    "collapsed": false
   },
   "outputs": [
    {
     "data": {
      "text/plain": [
       "500.0"
      ]
     },
     "execution_count": 7,
     "metadata": {},
     "output_type": "execute_result"
    }
   ],
   "source": [
    "risk.position_size_calculator(500, .01, 'buy', next_event.price, 111.286)"
   ]
  },
  {
   "cell_type": "code",
   "execution_count": 8,
   "metadata": {
    "collapsed": false
   },
   "outputs": [
    {
     "data": {
      "text/plain": [
       "10.0"
      ]
     },
     "execution_count": 8,
     "metadata": {},
     "output_type": "execute_result"
    }
   ],
   "source": [
    "risk.margin_requirement(500, .02)"
   ]
  },
  {
   "cell_type": "code",
   "execution_count": 9,
   "metadata": {
    "collapsed": false
   },
   "outputs": [
    {
     "data": {
      "text/plain": [
       "7.0"
      ]
     },
     "execution_count": 9,
     "metadata": {},
     "output_type": "execute_result"
    }
   ],
   "source": [
    "next_event.pip_stop_loss"
   ]
  },
  {
   "cell_type": "code",
   "execution_count": 10,
   "metadata": {
    "collapsed": false
   },
   "outputs": [],
   "source": [
    "res = portfolio.account_summary()"
   ]
  },
  {
   "cell_type": "code",
   "execution_count": 11,
   "metadata": {
    "collapsed": false
   },
   "outputs": [],
   "source": [
    "resp = res.json()"
   ]
  },
  {
   "cell_type": "code",
   "execution_count": 12,
   "metadata": {
    "collapsed": false
   },
   "outputs": [
    {
     "data": {
      "text/plain": [
       "{'account': {'NAV': '500.0000',\n",
       "  'alias': 'Nov16mt',\n",
       "  'balance': '500.0000',\n",
       "  'commission': '0',\n",
       "  'createdByUserID': 1551265,\n",
       "  'createdTime': '2016-11-08T19:09:21.311863625Z',\n",
       "  'currency': 'GBP',\n",
       "  'financing': '0',\n",
       "  'hedgingEnabled': False,\n",
       "  'id': '101-004-1551265-001',\n",
       "  'lastTransactionID': '3',\n",
       "  'marginAvailable': '500.0000',\n",
       "  'marginCallMarginUsed': '0.0000',\n",
       "  'marginCallPercent': '0.00000',\n",
       "  'marginCloseoutMarginUsed': '0.0000',\n",
       "  'marginCloseoutNAV': '500.0000',\n",
       "  'marginCloseoutPercent': '0.00000',\n",
       "  'marginCloseoutPositionValue': '0.0000',\n",
       "  'marginCloseoutUnrealizedPL': '0.0000',\n",
       "  'marginRate': '0.02',\n",
       "  'marginUsed': '0.0000',\n",
       "  'openPositionCount': 0,\n",
       "  'openTradeCount': 0,\n",
       "  'orders': [],\n",
       "  'pendingOrderCount': 0,\n",
       "  'pl': '0.0000',\n",
       "  'positionValue': '0.0000',\n",
       "  'positions': [],\n",
       "  'resettablePL': '0.0000',\n",
       "  'trades': [],\n",
       "  'unrealizedPL': '0.0000',\n",
       "  'withdrawalLimit': '500.0000'},\n",
       " 'lastTransactionID': '3'}"
      ]
     },
     "execution_count": 12,
     "metadata": {},
     "output_type": "execute_result"
    }
   ],
   "source": [
    "resp"
   ]
  },
  {
   "cell_type": "code",
   "execution_count": 14,
   "metadata": {
    "collapsed": false
   },
   "outputs": [
    {
     "data": {
      "text/plain": [
       "<Response [200]>"
      ]
     },
     "execution_count": 14,
     "metadata": {},
     "output_type": "execute_result"
    }
   ],
   "source": [
    "res"
   ]
  },
  {
   "cell_type": "code",
   "execution_count": null,
   "metadata": {
    "collapsed": true
   },
   "outputs": [],
   "source": []
  }
 ],
 "metadata": {
  "anaconda-cloud": {},
  "kernelspec": {
   "display_name": "Python [default]",
   "language": "python",
   "name": "python3"
  },
  "language_info": {
   "codemirror_mode": {
    "name": "ipython",
    "version": 3
   },
   "file_extension": ".py",
   "mimetype": "text/x-python",
   "name": "python",
   "nbconvert_exporter": "python",
   "pygments_lexer": "ipython3",
   "version": "3.5.2"
  }
 },
 "nbformat": 4,
 "nbformat_minor": 1
}
