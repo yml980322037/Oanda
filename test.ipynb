{
 "cells": [
  {
   "cell_type": "code",
   "execution_count": 1,
   "metadata": {
    "collapsed": false
   },
   "outputs": [],
   "source": [
    "import config\n",
    "import event\n",
    "import handler\n",
    "import strategy\n",
    "import portfolio\n",
    "import risk\n",
    "import analysis as an\n",
    "from datetime import datetime\n",
    "\n",
    "\n",
    "#SQL & API credentials. Store in config file.\n",
    "\n",
    "access_token = config.access_token\n",
    "account_id = config.account_id\n",
    "\n",
    "sql_host = config.sql_host\n",
    "sql_user = config.sql_user_analysis\n",
    "sql_password = config.sql_password_analysis"
   ]
  },
  {
   "cell_type": "code",
   "execution_count": 2,
   "metadata": {
    "collapsed": false
   },
   "outputs": [],
   "source": [
    "dh = handler.DataHandler()\n",
    "queue = event.EventQueue()\n",
    "strategy = strategy.Strategy()\n",
    "risk = risk.Risk('USDJPY', 2, 2)\n",
    "portfolio = portfolio.Portfolio()"
   ]
  },
  {
   "cell_type": "code",
   "execution_count": 3,
   "metadata": {
    "collapsed": false
   },
   "outputs": [],
   "source": [
    "queue.add_to_queue(dh.get_single_rate(n = 7))"
   ]
  },
  {
   "cell_type": "code",
   "execution_count": 4,
   "metadata": {
    "collapsed": false
   },
   "outputs": [
    {
     "name": "stdout",
     "output_type": "stream",
     "text": [
      "Tick Event Popped\n",
      "Signal Event Popped\n",
      "Trade Event Popped\n"
     ]
    }
   ],
   "source": [
    "while len(queue.queue) != 0:\n",
    "    next_event = queue.next_event()\n",
    "    \n",
    "    if next_event.type == 'tick':\n",
    "        #Call strategy\n",
    "        queue.add_to_queue(strategy.generate_signal(next_event))\n",
    "        print('Tick Event Popped')\n",
    "\n",
    "    elif next_event.type == 'signal':\n",
    "        # If signal requires, call risk\n",
    "        if next_event.signal != 'none':\n",
    "            queue.add_to_queue(risk.calculate_risk(next_event))\n",
    "            print('Signal Event Popped')\n",
    "\n",
    "    elif next_event.type == 'trade':\n",
    "        #Call portfolio\n",
    "        print('Trade Event Popped')\n",
    "\n",
    "    elif next_event.type == 'order':\n",
    "        #Call execution\n",
    "        print('Order Event Popped')\n",
    "\n",
    "    elif next_event.type == 'fill':\n",
    "        #Wait in execution function until response received\n",
    "        #Call portfolio\n",
    "        print('Fill Event Popped')\n",
    "\n",
    "    else:\n",
    "        print('Queue Error')\n"
   ]
  },
  {
   "cell_type": "code",
   "execution_count": 5,
   "metadata": {
    "collapsed": false
   },
   "outputs": [
    {
     "data": {
      "text/plain": [
       "0"
      ]
     },
     "execution_count": 5,
     "metadata": {},
     "output_type": "execute_result"
    }
   ],
   "source": [
    "len(queue.queue)"
   ]
  },
  {
   "cell_type": "code",
   "execution_count": 6,
   "metadata": {
    "collapsed": false
   },
   "outputs": [
    {
     "name": "stdout",
     "output_type": "stream",
     "text": [
      "2017-05-30 01:02:00\n",
      "sell\n",
      "111.286\n",
      "111.086\n"
     ]
    },
    {
     "data": {
      "text/plain": [
       "{'ask': 111.196, 'bid': 111.21600000000001}"
      ]
     },
     "execution_count": 6,
     "metadata": {},
     "output_type": "execute_result"
    }
   ],
   "source": [
    "print(next_event.time)\n",
    "print(next_event.signal)\n",
    "print(next_event.sl)\n",
    "print(next_event.tp)\n",
    "next_event.price"
   ]
  },
  {
   "cell_type": "code",
   "execution_count": 7,
   "metadata": {
    "collapsed": false
   },
   "outputs": [
    {
     "data": {
      "text/plain": [
       "500.0"
      ]
     },
     "execution_count": 7,
     "metadata": {},
     "output_type": "execute_result"
    }
   ],
   "source": [
    "risk.position_size_calculator(500, .01, 'buy', next_event.price, 111.286)"
   ]
  },
  {
   "cell_type": "code",
   "execution_count": 8,
   "metadata": {
    "collapsed": false
   },
   "outputs": [
    {
     "data": {
      "text/plain": [
       "10.0"
      ]
     },
     "execution_count": 8,
     "metadata": {},
     "output_type": "execute_result"
    }
   ],
   "source": [
    "risk.margin_requirement(500, .02)"
   ]
  },
  {
   "cell_type": "code",
   "execution_count": 9,
   "metadata": {
    "collapsed": false
   },
   "outputs": [
    {
     "data": {
      "text/plain": [
       "7.0"
      ]
     },
     "execution_count": 9,
     "metadata": {},
     "output_type": "execute_result"
    }
   ],
   "source": [
    "next_event.pip_stop_loss"
   ]
  },
  {
   "cell_type": "code",
   "execution_count": 10,
   "metadata": {
    "collapsed": false
   },
   "outputs": [
    {
     "data": {
      "text/plain": [
       "'500.0000'"
      ]
     },
     "execution_count": 10,
     "metadata": {},
     "output_type": "execute_result"
    }
   ],
   "source": [
    "portfolio.balance"
   ]
  },
  {
   "cell_type": "code",
   "execution_count": 11,
   "metadata": {
    "collapsed": false
   },
   "outputs": [
    {
     "data": {
      "text/html": [
       "<div>\n",
       "<table border=\"1\" class=\"dataframe\">\n",
       "  <thead>\n",
       "    <tr style=\"text-align: right;\">\n",
       "      <th></th>\n",
       "      <th>time</th>\n",
       "      <th>open</th>\n",
       "      <th>high</th>\n",
       "      <th>low</th>\n",
       "      <th>close</th>\n",
       "      <th>SMA3</th>\n",
       "      <th>SMA7</th>\n",
       "      <th>State</th>\n",
       "    </tr>\n",
       "  </thead>\n",
       "  <tbody>\n",
       "    <tr>\n",
       "      <th>0</th>\n",
       "      <td>2017-05-29 23:30:00</td>\n",
       "      <td>111.2095</td>\n",
       "      <td>111.2640</td>\n",
       "      <td>111.2010</td>\n",
       "      <td>111.2615</td>\n",
       "      <td>NaN</td>\n",
       "      <td>NaN</td>\n",
       "      <td>NA</td>\n",
       "    </tr>\n",
       "    <tr>\n",
       "      <th>1</th>\n",
       "      <td>2017-05-29 23:45:00</td>\n",
       "      <td>111.2620</td>\n",
       "      <td>111.2620</td>\n",
       "      <td>111.2325</td>\n",
       "      <td>111.2335</td>\n",
       "      <td>NaN</td>\n",
       "      <td>NaN</td>\n",
       "      <td>NA</td>\n",
       "    </tr>\n",
       "    <tr>\n",
       "      <th>2</th>\n",
       "      <td>2017-05-30 00:00:00</td>\n",
       "      <td>111.2385</td>\n",
       "      <td>111.2630</td>\n",
       "      <td>111.2075</td>\n",
       "      <td>111.2615</td>\n",
       "      <td>111.236667</td>\n",
       "      <td>NaN</td>\n",
       "      <td>NA</td>\n",
       "    </tr>\n",
       "    <tr>\n",
       "      <th>3</th>\n",
       "      <td>2017-05-30 00:15:00</td>\n",
       "      <td>111.2620</td>\n",
       "      <td>111.2865</td>\n",
       "      <td>111.2415</td>\n",
       "      <td>111.2640</td>\n",
       "      <td>111.254167</td>\n",
       "      <td>NaN</td>\n",
       "      <td>NA</td>\n",
       "    </tr>\n",
       "    <tr>\n",
       "      <th>4</th>\n",
       "      <td>2017-05-30 00:30:00</td>\n",
       "      <td>111.2630</td>\n",
       "      <td>111.2815</td>\n",
       "      <td>111.1980</td>\n",
       "      <td>111.2040</td>\n",
       "      <td>111.254500</td>\n",
       "      <td>NaN</td>\n",
       "      <td>NA</td>\n",
       "    </tr>\n",
       "    <tr>\n",
       "      <th>5</th>\n",
       "      <td>2017-05-30 00:45:00</td>\n",
       "      <td>111.2075</td>\n",
       "      <td>111.2435</td>\n",
       "      <td>111.1630</td>\n",
       "      <td>111.1915</td>\n",
       "      <td>111.244167</td>\n",
       "      <td>NaN</td>\n",
       "      <td>NA</td>\n",
       "    </tr>\n",
       "    <tr>\n",
       "      <th>6</th>\n",
       "      <td>2017-05-30 01:00:00</td>\n",
       "      <td>111.1910</td>\n",
       "      <td>111.2180</td>\n",
       "      <td>111.1475</td>\n",
       "      <td>111.2060</td>\n",
       "      <td>111.220500</td>\n",
       "      <td>111.233357</td>\n",
       "      <td>Below</td>\n",
       "    </tr>\n",
       "  </tbody>\n",
       "</table>\n",
       "</div>"
      ],
      "text/plain": [
       "                 time      open      high       low     close        SMA3  \\\n",
       "0 2017-05-29 23:30:00  111.2095  111.2640  111.2010  111.2615         NaN   \n",
       "1 2017-05-29 23:45:00  111.2620  111.2620  111.2325  111.2335         NaN   \n",
       "2 2017-05-30 00:00:00  111.2385  111.2630  111.2075  111.2615  111.236667   \n",
       "3 2017-05-30 00:15:00  111.2620  111.2865  111.2415  111.2640  111.254167   \n",
       "4 2017-05-30 00:30:00  111.2630  111.2815  111.1980  111.2040  111.254500   \n",
       "5 2017-05-30 00:45:00  111.2075  111.2435  111.1630  111.1915  111.244167   \n",
       "6 2017-05-30 01:00:00  111.1910  111.2180  111.1475  111.2060  111.220500   \n",
       "\n",
       "         SMA7  State  \n",
       "0         NaN     NA  \n",
       "1         NaN     NA  \n",
       "2         NaN     NA  \n",
       "3         NaN     NA  \n",
       "4         NaN     NA  \n",
       "5         NaN     NA  \n",
       "6  111.233357  Below  "
      ]
     },
     "execution_count": 11,
     "metadata": {},
     "output_type": "execute_result"
    }
   ],
   "source": [
    "next_event.df"
   ]
  },
  {
   "cell_type": "code",
   "execution_count": 12,
   "metadata": {
    "collapsed": false
   },
   "outputs": [
    {
     "data": {
      "text/html": [
       "<div>\n",
       "<table border=\"1\" class=\"dataframe\">\n",
       "  <thead>\n",
       "    <tr style=\"text-align: right;\">\n",
       "      <th></th>\n",
       "      <th>time</th>\n",
       "      <th>open</th>\n",
       "      <th>high</th>\n",
       "      <th>low</th>\n",
       "      <th>close</th>\n",
       "      <th>SMA2</th>\n",
       "      <th>SMA7</th>\n",
       "      <th>State</th>\n",
       "    </tr>\n",
       "  </thead>\n",
       "  <tbody>\n",
       "    <tr>\n",
       "      <th>0</th>\n",
       "      <td>2017-05-29 07:00:00</td>\n",
       "      <td>111.3055</td>\n",
       "      <td>111.4030</td>\n",
       "      <td>111.2310</td>\n",
       "      <td>111.3500</td>\n",
       "      <td>NaN</td>\n",
       "      <td>NaN</td>\n",
       "      <td>NA</td>\n",
       "    </tr>\n",
       "    <tr>\n",
       "      <th>1</th>\n",
       "      <td>2017-05-29 10:00:00</td>\n",
       "      <td>111.3505</td>\n",
       "      <td>111.3970</td>\n",
       "      <td>111.3000</td>\n",
       "      <td>111.3405</td>\n",
       "      <td>111.32800</td>\n",
       "      <td>NaN</td>\n",
       "      <td>NA</td>\n",
       "    </tr>\n",
       "    <tr>\n",
       "      <th>2</th>\n",
       "      <td>2017-05-29 13:00:00</td>\n",
       "      <td>111.3410</td>\n",
       "      <td>111.3660</td>\n",
       "      <td>111.2650</td>\n",
       "      <td>111.2890</td>\n",
       "      <td>111.34575</td>\n",
       "      <td>NaN</td>\n",
       "      <td>NA</td>\n",
       "    </tr>\n",
       "    <tr>\n",
       "      <th>3</th>\n",
       "      <td>2017-05-29 16:00:00</td>\n",
       "      <td>111.2895</td>\n",
       "      <td>111.3340</td>\n",
       "      <td>111.2675</td>\n",
       "      <td>111.3060</td>\n",
       "      <td>111.31525</td>\n",
       "      <td>NaN</td>\n",
       "      <td>NA</td>\n",
       "    </tr>\n",
       "    <tr>\n",
       "      <th>4</th>\n",
       "      <td>2017-05-29 19:00:00</td>\n",
       "      <td>111.3050</td>\n",
       "      <td>111.3785</td>\n",
       "      <td>111.2345</td>\n",
       "      <td>111.2585</td>\n",
       "      <td>111.29725</td>\n",
       "      <td>NaN</td>\n",
       "      <td>NA</td>\n",
       "    </tr>\n",
       "    <tr>\n",
       "      <th>5</th>\n",
       "      <td>2017-05-29 22:00:00</td>\n",
       "      <td>111.2520</td>\n",
       "      <td>111.3350</td>\n",
       "      <td>111.1630</td>\n",
       "      <td>111.1915</td>\n",
       "      <td>111.27850</td>\n",
       "      <td>NaN</td>\n",
       "      <td>NA</td>\n",
       "    </tr>\n",
       "    <tr>\n",
       "      <th>6</th>\n",
       "      <td>2017-05-30 01:00:00</td>\n",
       "      <td>111.1910</td>\n",
       "      <td>111.2285</td>\n",
       "      <td>110.7715</td>\n",
       "      <td>110.8420</td>\n",
       "      <td>111.22150</td>\n",
       "      <td>111.290643</td>\n",
       "      <td>Below</td>\n",
       "    </tr>\n",
       "  </tbody>\n",
       "</table>\n",
       "</div>"
      ],
      "text/plain": [
       "                 time      open      high       low     close       SMA2  \\\n",
       "0 2017-05-29 07:00:00  111.3055  111.4030  111.2310  111.3500        NaN   \n",
       "1 2017-05-29 10:00:00  111.3505  111.3970  111.3000  111.3405  111.32800   \n",
       "2 2017-05-29 13:00:00  111.3410  111.3660  111.2650  111.2890  111.34575   \n",
       "3 2017-05-29 16:00:00  111.2895  111.3340  111.2675  111.3060  111.31525   \n",
       "4 2017-05-29 19:00:00  111.3050  111.3785  111.2345  111.2585  111.29725   \n",
       "5 2017-05-29 22:00:00  111.2520  111.3350  111.1630  111.1915  111.27850   \n",
       "6 2017-05-30 01:00:00  111.1910  111.2285  110.7715  110.8420  111.22150   \n",
       "\n",
       "         SMA7  State  \n",
       "0         NaN     NA  \n",
       "1         NaN     NA  \n",
       "2         NaN     NA  \n",
       "3         NaN     NA  \n",
       "4         NaN     NA  \n",
       "5         NaN     NA  \n",
       "6  111.290643  Below  "
      ]
     },
     "execution_count": 12,
     "metadata": {},
     "output_type": "execute_result"
    }
   ],
   "source": [
    "next_event.threehrdf"
   ]
  },
  {
   "cell_type": "code",
   "execution_count": null,
   "metadata": {
    "collapsed": true
   },
   "outputs": [],
   "source": []
  }
 ],
 "metadata": {
  "anaconda-cloud": {},
  "kernelspec": {
   "display_name": "Python [default]",
   "language": "python",
   "name": "python3"
  },
  "language_info": {
   "codemirror_mode": {
    "name": "ipython",
    "version": 3
   },
   "file_extension": ".py",
   "mimetype": "text/x-python",
   "name": "python",
   "nbconvert_exporter": "python",
   "pygments_lexer": "ipython3",
   "version": "3.5.2"
  }
 },
 "nbformat": 4,
 "nbformat_minor": 1
}
