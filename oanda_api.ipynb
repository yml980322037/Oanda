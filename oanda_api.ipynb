{
 "cells": [
  {
   "cell_type": "code",
   "execution_count": 1,
   "metadata": {
    "collapsed": true
   },
   "outputs": [],
   "source": [
    "import requests\n",
    "import json\n",
    "from pandas import Series, DataFrame\n",
    "from datetime import datetime\n",
    "import config\n",
    "import mysql.connector"
   ]
  },
  {
   "cell_type": "code",
   "execution_count": 2,
   "metadata": {
    "collapsed": false
   },
   "outputs": [],
   "source": [
    "# Store oanda api & SQL Server authentication in config file\n",
    "\n",
    "url = config.url\n",
    "access_token = config.access_token\n",
    "account_id = config.account_id\n",
    "\n",
    "sql_host = config.sql_host\n",
    "sql_user = config.sql_user\n",
    "sql_password = config.sql_password"
   ]
  },
  {
   "cell_type": "code",
   "execution_count": 3,
   "metadata": {
    "collapsed": false
   },
   "outputs": [],
   "source": [
    "class Data:\n",
    "    \n",
    "    def __init__(self,ticker):\n",
    "        self.ticker = ticker\n",
    "        self.url = url\n",
    "        self.headers = {'Authorization' : 'Bearer ' + access_token,'X-Accept-Datetime-Format': 'UNIX'}\n",
    "        self.params = {'accountId' : account_id,'instrument': self.ticker}\n",
    "    \n",
    "    def pull_json_data(self,startdate,enddate,starthr,endhr,granularity):\n",
    "        self.params['start'] = datetime.timestamp(datetime.strptime(startdate+starthr,'%Y-%m-%d%H'))\n",
    "        self.params['end'] = datetime.timestamp(datetime.strptime(enddate+endhr,'%Y-%m-%d%H'))\n",
    "        self.params['granularity'] = granularity\n",
    "        req = requests.get(self.url, headers = self.headers, params = self.params)\n",
    "        json_data = req.json()\n",
    "        self.params.pop('start', None)\n",
    "        self.params.pop('end', None)\n",
    "        return json_data['candles']\n",
    "    \n",
    "    \n",
    "    #Change function to loop through stored 3hr dataframe instead of API call\n",
    "    def check_3hr_trend(self,time):\n",
    "        self.params['count'] = 15\n",
    "        self.params['end'] = datetime.timestamp(datetime.strptime(time,'%Y-%m-%d%H:%M:%S'))\n",
    "        self.params['granularity'] = 'H3'\n",
    "        \n",
    "        req = requests.get(self.url, headers = self.headers, params = self.params)\n",
    "        json_data = req.json()\n",
    "        json_data = json_data['candles']\n",
    "        time_reformatter(json_data)\n",
    "        \n",
    "        df = DataFrame(json_data)\n",
    "        add_sma3_sma10(df)\n",
    "        \n",
    "        if df.ix[11, 'SMA10'] < df.ix[14, 'SMA10']:\n",
    "            return True\n",
    "        \n",
    "    \n",
    "    "
   ]
  },
  {
   "cell_type": "code",
   "execution_count": 4,
   "metadata": {
    "collapsed": true
   },
   "outputs": [],
   "source": [
    "def time_reformatter(datadict):\n",
    "    for item in datadict:\n",
    "        item['date'] = datetime.strftime(datetime.fromtimestamp(float(item['time'][:10])),'%Y-%m-%d')\n",
    "        item['time'] = datetime.strftime(datetime.fromtimestamp(float(item['time'][:10])),'%H:%M:%S')\n",
    "        item.pop('volume', None)\n",
    "        item.pop('complete', None)"
   ]
  },
  {
   "cell_type": "code",
   "execution_count": 5,
   "metadata": {
    "collapsed": true
   },
   "outputs": [],
   "source": [
    "def add_sma3_sma10(df):\n",
    "    df['SMA3'] = df['openBid'].rolling(window=3).mean()\n",
    "    df['SMA10'] = df['openBid'].rolling(window=10).mean()"
   ]
  },
  {
   "cell_type": "code",
   "execution_count": 6,
   "metadata": {
    "collapsed": true
   },
   "outputs": [],
   "source": [
    "def add_state(df):\n",
    "    state = 'Above'\n",
    "    for i in df.index:\n",
    "        if df.ix[i, 'SMA3'] < df.ix[i, 'SMA10']:\n",
    "            state = 'Below'\n",
    "        else:\n",
    "            state = 'Above'\n",
    "\n",
    "        df.ix[i, 'State'] = state"
   ]
  },
  {
   "cell_type": "code",
   "execution_count": 7,
   "metadata": {
    "collapsed": true
   },
   "outputs": [],
   "source": [
    "def rearrange_cols(df):\n",
    "    return df[['date', 'time', 'openAsk', 'lowAsk', 'highAsk', 'closeAsk', 'openBid', 'lowBid', 'highBid',\n",
    "             'closeBid', 'SMA3', 'SMA10', 'State',]]"
   ]
  },
  {
   "cell_type": "code",
   "execution_count": 8,
   "metadata": {
    "collapsed": true
   },
   "outputs": [],
   "source": [
    "#Create function to check trend from SMA10? - Return Boolean - Work on DataFrame index\n",
    "def check_trend(df, index):\n",
    "    if df.ix[index-20, 'SMA10'] < df.ix[index, 'SMA10']:\n",
    "        return True"
   ]
  },
  {
   "cell_type": "code",
   "execution_count": 9,
   "metadata": {
    "collapsed": false
   },
   "outputs": [],
   "source": [
    "# Move to separate module\n",
    "\n",
    "def crosses(df):\n",
    "    crosses = 0\n",
    "\n",
    "    for i in df.index[20:]:\n",
    "        if check_trend(df, i):\n",
    "            if df.ix[i-1,'State'] == 'Below' and df.ix[i, 'State'] == 'Above' : # True when SMA3 crosses over SMA10\n",
    "                diff = ((df.ix[i, 'SMA10'] - df.ix[i-15, 'SMA10']) / df.ix[i, 'SMA10']) * 100\n",
    "                spread = (df.ix[i, 'openAsk'] - df.ix[i, 'openBid']) *100\n",
    "                print('{} at {} {}, Spread: {}'.format(\n",
    "                        round(diff, 6), df.ix[i, 'time'],df.ix[i, 'date'], round(spread ,9)))\n",
    "                crosses += 1\n",
    "\n",
    "    print('Crossed above {} times.'.format(crosses))"
   ]
  },
  {
   "cell_type": "code",
   "execution_count": 10,
   "metadata": {
    "collapsed": true
   },
   "outputs": [],
   "source": [
    "# Move to separate module\n",
    "\n",
    "def crosses_with_3hr(dataframe):\n",
    "    cross = 0\n",
    "    for i in dataframe.index[20:]:\n",
    "            if check_trend(dataframe, i):\n",
    "                if USD_JPY.check_3hr_trend(dataframe.ix[i, 'date'] + dataframe.ix[i, 'time']):\n",
    "                    if dataframe.ix[i-1,'State'] == 'Below' and dataframe.ix[i, 'State'] == 'Above' : # True when SMA3 crosses over SMA10\n",
    "                        spread = (dataframe.ix[i, 'openAsk'] - dataframe.ix[i, 'openBid']) *100\n",
    "                        print('{} {}, Spread: {}'.format(\n",
    "                                dataframe.ix[i, 'time'],dataframe.ix[i, 'date'], round(spread ,9)))\n",
    "                        cross += 1\n",
    "\n",
    "    print('Crossed above {} times.'.format(cross))"
   ]
  },
  {
   "cell_type": "code",
   "execution_count": 11,
   "metadata": {
    "collapsed": false
   },
   "outputs": [],
   "source": [
    "USD_JPY = Data('USD_JPY')"
   ]
  },
  {
   "cell_type": "code",
   "execution_count": 12,
   "metadata": {
    "collapsed": false
   },
   "outputs": [],
   "source": [
    "json_data = USD_JPY.pull_json_data('2016-12-01','2016-12-16','00','16','H1')\n",
    "time_reformatter(json_data)"
   ]
  },
  {
   "cell_type": "code",
   "execution_count": 4,
   "metadata": {
    "collapsed": false
   },
   "outputs": [],
   "source": [
    "cnx = mysql.connector.connect(user=sql_user, password=sql_password,\n",
    "                             host=sql_host, database='Currency')"
   ]
  },
  {
   "cell_type": "code",
   "execution_count": 7,
   "metadata": {
    "collapsed": false
   },
   "outputs": [],
   "source": [
    "cnx.database = 'Currency'"
   ]
  },
  {
   "cell_type": "code",
   "execution_count": 13,
   "metadata": {
    "collapsed": true
   },
   "outputs": [],
   "source": [
    "cursor = cnx.cursor()"
   ]
  },
  {
   "cell_type": "code",
   "execution_count": 22,
   "metadata": {
    "collapsed": false
   },
   "outputs": [
    {
     "name": "stdout",
     "output_type": "stream",
     "text": [
      "1050 (42S01): Table 'USD_JPY_H1' already exists\n"
     ]
    }
   ],
   "source": [
    "try:\n",
    "    cursor.execute('''CREATE TABLE USD_JPY_H1\n",
    "             (date DATE, time TIME, openask DECIMAL, closeask DECIMAL, lowask DECIMAL, highask DECIMAL)''')\n",
    "except mysql.connector.Error as err:\n",
    "    print(err)"
   ]
  },
  {
   "cell_type": "code",
   "execution_count": null,
   "metadata": {
    "collapsed": true
   },
   "outputs": [],
   "source": []
  }
 ],
 "metadata": {
  "anaconda-cloud": {},
  "kernelspec": {
   "display_name": "Python [default]",
   "language": "python",
   "name": "python3"
  },
  "language_info": {
   "codemirror_mode": {
    "name": "ipython",
    "version": 3
   },
   "file_extension": ".py",
   "mimetype": "text/x-python",
   "name": "python",
   "nbconvert_exporter": "python",
   "pygments_lexer": "ipython3",
   "version": "3.5.2"
  }
 },
 "nbformat": 4,
 "nbformat_minor": 1
}
